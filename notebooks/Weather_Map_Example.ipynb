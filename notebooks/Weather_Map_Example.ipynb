{
 "cells": [
  {
   "cell_type": "code",
   "execution_count": 2,
   "id": "0ab39888",
   "metadata": {},
   "outputs": [
    {
     "name": "stderr",
     "output_type": "stream",
     "text": [
      "/home/carnufex/geostradamus/.venv/lib/python3.11/site-packages/tqdm/auto.py:21: TqdmWarning: IProgress not found. Please update jupyter and ipywidgets. See https://ipywidgets.readthedocs.io/en/stable/user_install.html\n",
      "  from .autonotebook import tqdm as notebook_tqdm\n"
     ]
    }
   ],
   "source": [
    "from geostradamus import Geostradamus\n",
    "from kernel import GaussianKernel\n",
    "from smoother import weighted_mean_smoother"
   ]
  },
  {
   "cell_type": "code",
   "execution_count": 3,
   "id": "f0e0ab36",
   "metadata": {},
   "outputs": [
    {
     "data": {
      "text/html": [
       "<div><style>\n",
       ".dataframe > thead > tr,\n",
       ".dataframe > tbody > tr {\n",
       "  text-align: right;\n",
       "  white-space: pre-wrap;\n",
       "}\n",
       "</style>\n",
       "<small>shape: (36_597, 5)</small><table border=\"1\" class=\"dataframe\"><thead><tr><th>station</th><th>date</th><th>lat</th><th>lng</th><th>y</th></tr><tr><td>str</td><td>date</td><td>f64</td><td>f64</td><td>f64</td></tr></thead><tbody><tr><td>&quot;USC00036393&quot;</td><td>2012-01-01</td><td>35.8236</td><td>-93.7672</td><td>25.821201</td></tr><tr><td>&quot;USC00036393&quot;</td><td>2012-01-02</td><td>35.8236</td><td>-93.7672</td><td>17.58022</td></tr><tr><td>&quot;USC00036393&quot;</td><td>2012-01-03</td><td>35.8236</td><td>-93.7672</td><td>6.765951</td></tr><tr><td>&quot;USC00036393&quot;</td><td>2012-01-04</td><td>35.8236</td><td>-93.7672</td><td>16.048731</td></tr><tr><td>&quot;USC00036393&quot;</td><td>2012-01-05</td><td>35.8236</td><td>-93.7672</td><td>18.331812</td></tr><tr><td>&hellip;</td><td>&hellip;</td><td>&hellip;</td><td>&hellip;</td><td>&hellip;</td></tr><tr><td>&quot;USC00419815&quot;</td><td>2012-12-27</td><td>30.0016</td><td>-98.1048</td><td>7.728219</td></tr><tr><td>&quot;USC00419815&quot;</td><td>2012-12-28</td><td>30.0016</td><td>-98.1048</td><td>14.976747</td></tr><tr><td>&quot;USC00419815&quot;</td><td>2012-12-29</td><td>30.0016</td><td>-98.1048</td><td>5.17832</td></tr><tr><td>&quot;USC00419815&quot;</td><td>2012-12-30</td><td>30.0016</td><td>-98.1048</td><td>4.698545</td></tr><tr><td>&quot;USC00419815&quot;</td><td>2012-12-31</td><td>30.0016</td><td>-98.1048</td><td>3.14416</td></tr></tbody></table></div>"
      ],
      "text/plain": [
       "shape: (36_597, 5)\n",
       "┌─────────────┬────────────┬─────────┬──────────┬───────────┐\n",
       "│ station     ┆ date       ┆ lat     ┆ lng      ┆ y         │\n",
       "│ ---         ┆ ---        ┆ ---     ┆ ---      ┆ ---       │\n",
       "│ str         ┆ date       ┆ f64     ┆ f64      ┆ f64       │\n",
       "╞═════════════╪════════════╪═════════╪══════════╪═══════════╡\n",
       "│ USC00036393 ┆ 2012-01-01 ┆ 35.8236 ┆ -93.7672 ┆ 25.821201 │\n",
       "│ USC00036393 ┆ 2012-01-02 ┆ 35.8236 ┆ -93.7672 ┆ 17.58022  │\n",
       "│ USC00036393 ┆ 2012-01-03 ┆ 35.8236 ┆ -93.7672 ┆ 6.765951  │\n",
       "│ USC00036393 ┆ 2012-01-04 ┆ 35.8236 ┆ -93.7672 ┆ 16.048731 │\n",
       "│ USC00036393 ┆ 2012-01-05 ┆ 35.8236 ┆ -93.7672 ┆ 18.331812 │\n",
       "│ …           ┆ …          ┆ …       ┆ …        ┆ …         │\n",
       "│ USC00419815 ┆ 2012-12-27 ┆ 30.0016 ┆ -98.1048 ┆ 7.728219  │\n",
       "│ USC00419815 ┆ 2012-12-28 ┆ 30.0016 ┆ -98.1048 ┆ 14.976747 │\n",
       "│ USC00419815 ┆ 2012-12-29 ┆ 30.0016 ┆ -98.1048 ┆ 5.17832   │\n",
       "│ USC00419815 ┆ 2012-12-30 ┆ 30.0016 ┆ -98.1048 ┆ 4.698545  │\n",
       "│ USC00419815 ┆ 2012-12-31 ┆ 30.0016 ┆ -98.1048 ┆ 3.14416   │\n",
       "└─────────────┴────────────┴─────────┴──────────┴───────────┘"
      ]
     },
     "execution_count": 3,
     "metadata": {},
     "output_type": "execute_result"
    }
   ],
   "source": [
    "import polars as pl\n",
    "\n",
    "df = pl.read_csv(\n",
    "    \"/home/carnufex/geostradamus/data/combined.csv\",\n",
    "    infer_schema_length=100,\n",
    ")\n",
    "df = df.with_columns(pl.col(\"date\").str.strptime(pl.Date, \"%Y-%m-%d\"))\n",
    "df"
   ]
  },
  {
   "cell_type": "code",
   "execution_count": 4,
   "id": "afb69d20",
   "metadata": {},
   "outputs": [],
   "source": [
    "m = Geostradamus(\n",
    "    kernel=GaussianKernel(500),\n",
    "    smoother=weighted_mean_smoother,\n",
    "    data=df,\n",
    ")"
   ]
  },
  {
   "cell_type": "code",
   "execution_count": 9,
   "id": "7ef4fd9f",
   "metadata": {},
   "outputs": [
    {
     "data": {
      "text/html": [
       "<div><style>\n",
       ".dataframe > thead > tr,\n",
       ".dataframe > tbody > tr {\n",
       "  text-align: right;\n",
       "  white-space: pre-wrap;\n",
       "}\n",
       "</style>\n",
       "<small>shape: (5, 11)</small><table border=\"1\" class=\"dataframe\"><thead><tr><th>station</th><th>date</th><th>lat</th><th>lng</th><th>y</th><th>distance</th><th>weights</th><th>trend</th><th>additive_terms</th><th>multiplicative_terms</th><th>yhat</th></tr><tr><td>str</td><td>date</td><td>f64</td><td>f64</td><td>f64</td><td>f64</td><td>f64</td><td>f64</td><td>f64</td><td>f64</td><td>f64</td></tr></thead><tbody><tr><td>&quot;USC00036393&quot;</td><td>2012-01-01</td><td>35.8236</td><td>-93.7672</td><td>15.142403</td><td>1997.890006</td><td>0.000341</td><td>15.142403</td><td>0.0</td><td>0.0</td><td>15.142403</td></tr><tr><td>&quot;USC00036393&quot;</td><td>2012-01-02</td><td>35.8236</td><td>-93.7672</td><td>15.142403</td><td>1997.890006</td><td>0.000341</td><td>15.142403</td><td>0.0</td><td>0.0</td><td>15.142403</td></tr><tr><td>&quot;USC00036393&quot;</td><td>2012-01-03</td><td>35.8236</td><td>-93.7672</td><td>15.142403</td><td>1997.890006</td><td>0.000341</td><td>15.142403</td><td>0.0</td><td>0.0</td><td>15.142403</td></tr><tr><td>&quot;USC00036393&quot;</td><td>2012-01-04</td><td>35.8236</td><td>-93.7672</td><td>15.142403</td><td>1997.890006</td><td>0.000341</td><td>15.142403</td><td>0.0</td><td>0.0</td><td>15.142403</td></tr><tr><td>&quot;USC00036393&quot;</td><td>2012-01-05</td><td>35.8236</td><td>-93.7672</td><td>15.142403</td><td>1997.890006</td><td>0.000341</td><td>15.142403</td><td>0.0</td><td>0.0</td><td>15.142403</td></tr></tbody></table></div>"
      ],
      "text/plain": [
       "shape: (5, 11)\n",
       "┌────────────┬────────────┬─────────┬──────────┬───┬───────────┬───────────┬───────────┬───────────┐\n",
       "│ station    ┆ date       ┆ lat     ┆ lng      ┆ … ┆ trend     ┆ additive_ ┆ multiplic ┆ yhat      │\n",
       "│ ---        ┆ ---        ┆ ---     ┆ ---      ┆   ┆ ---       ┆ terms     ┆ ative_ter ┆ ---       │\n",
       "│ str        ┆ date       ┆ f64     ┆ f64      ┆   ┆ f64       ┆ ---       ┆ ms        ┆ f64       │\n",
       "│            ┆            ┆         ┆          ┆   ┆           ┆ f64       ┆ ---       ┆           │\n",
       "│            ┆            ┆         ┆          ┆   ┆           ┆           ┆ f64       ┆           │\n",
       "╞════════════╪════════════╪═════════╪══════════╪═══╪═══════════╪═══════════╪═══════════╪═══════════╡\n",
       "│ USC0003639 ┆ 2012-01-01 ┆ 35.8236 ┆ -93.7672 ┆ … ┆ 15.142403 ┆ 0.0       ┆ 0.0       ┆ 15.142403 │\n",
       "│ 3          ┆            ┆         ┆          ┆   ┆           ┆           ┆           ┆           │\n",
       "│ USC0003639 ┆ 2012-01-02 ┆ 35.8236 ┆ -93.7672 ┆ … ┆ 15.142403 ┆ 0.0       ┆ 0.0       ┆ 15.142403 │\n",
       "│ 3          ┆            ┆         ┆          ┆   ┆           ┆           ┆           ┆           │\n",
       "│ USC0003639 ┆ 2012-01-03 ┆ 35.8236 ┆ -93.7672 ┆ … ┆ 15.142403 ┆ 0.0       ┆ 0.0       ┆ 15.142403 │\n",
       "│ 3          ┆            ┆         ┆          ┆   ┆           ┆           ┆           ┆           │\n",
       "│ USC0003639 ┆ 2012-01-04 ┆ 35.8236 ┆ -93.7672 ┆ … ┆ 15.142403 ┆ 0.0       ┆ 0.0       ┆ 15.142403 │\n",
       "│ 3          ┆            ┆         ┆          ┆   ┆           ┆           ┆           ┆           │\n",
       "│ USC0003639 ┆ 2012-01-05 ┆ 35.8236 ┆ -93.7672 ┆ … ┆ 15.142403 ┆ 0.0       ┆ 0.0       ┆ 15.142403 │\n",
       "│ 3          ┆            ┆         ┆          ┆   ┆           ┆           ┆           ┆           │\n",
       "└────────────┴────────────┴─────────┴──────────┴───┴───────────┴───────────┴───────────┴───────────┘"
      ]
     },
     "execution_count": 9,
     "metadata": {},
     "output_type": "execute_result"
    }
   ],
   "source": [
    "predict = m.fit(42, -72, periods=30)\n",
    "predict.head(5)"
   ]
  },
  {
   "cell_type": "code",
   "execution_count": null,
   "id": "087ab6b8",
   "metadata": {},
   "outputs": [],
   "source": []
  }
 ],
 "metadata": {
  "kernelspec": {
   "display_name": ".venv",
   "language": "python",
   "name": "python3"
  },
  "language_info": {
   "codemirror_mode": {
    "name": "ipython",
    "version": 3
   },
   "file_extension": ".py",
   "mimetype": "text/x-python",
   "name": "python",
   "nbconvert_exporter": "python",
   "pygments_lexer": "ipython3",
   "version": "3.11.5"
  }
 },
 "nbformat": 4,
 "nbformat_minor": 5
}
